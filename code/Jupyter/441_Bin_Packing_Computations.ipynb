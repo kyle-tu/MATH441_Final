{
 "cells": [
  {
   "cell_type": "code",
   "execution_count": 75,
   "id": "a10b97b7",
   "metadata": {},
   "outputs": [],
   "source": [
    "import numpy as np\n",
    "import pulp\n",
    "import random\n",
    "import matplotlib.pyplot as plt"
   ]
  },
  {
   "cell_type": "code",
   "execution_count": 88,
   "id": "8c151dfe",
   "metadata": {},
   "outputs": [
    {
     "name": "stdout",
     "output_type": "stream",
     "text": [
      "Number of bins required for Tier 1 :  20\n",
      "Number of bins required for Tier 2 :  19\n",
      "Number of bins required for Tier 3 :  19\n",
      "Number of bins required for Tier 4 :  18\n",
      "Number of bins required for Tier 5 :  20\n",
      "[20, 19, 19, 18, 20]\n"
     ]
    }
   ],
   "source": [
    "\n",
    "\n",
    "arrT1r = [random.randint(0, 500) for i in range(0, 20)]\n",
    "arrT2r = [random.randint(0, 500) for i in range(0, 20)]\n",
    "arrT3r = [random.randint(0, 500) for i in range(0, 20)]\n",
    "arrT4r = [random.randint(0, 500) for i in range(0, 20)]\n",
    "arrT5r = [random.randint(0, 500) for i in range(0, 20)]\n",
    "\n",
    "arrT1r = arrT1\n",
    "arrT2r = arrT2\n",
    "arrT3r = arrT3\n",
    "arrT4r = arrT4\n",
    "arrT5r = arrT5\n",
    "\n",
    "arrT1.sort(reverse = True), arrT2.sort(reverse = True), arrT3.sort(reverse = True), \n",
    "arrT4.sort(reverse = True), arrT5.sort(reverse = True)\n",
    "\n",
    "\n",
    "\n",
    "# utilizing first fit decreasing\n",
    "# code source: https://www.geeksforgeeks.org/bin-packing-problem-minimize-number-of-used-bins/\n",
    "\n",
    "def firstFit(weight, n, c):\n",
    "     \n",
    "    # Initialize result (Count of bins)\n",
    "    res = 0\n",
    "     \n",
    "    # Create an array to store remaining space in bins\n",
    "    # there can be at most n bins\n",
    "    bin_rem = [0]*n\n",
    "     \n",
    "    # Place items one by one\n",
    "    for i in range(n):\n",
    "       \n",
    "        # Find the first bin that can accommodate\n",
    "        # weight[i]\n",
    "        j = 0\n",
    "        while( j < res):\n",
    "            if (bin_rem[j] >= weight[i]):\n",
    "                bin_rem[j] = bin_rem[j] - weight[i]\n",
    "                break\n",
    "            j+=1\n",
    "             \n",
    "        # If no bin could accommodate weight[i]\n",
    "        if (j == res):\n",
    "            bin_rem[res] = c - weight[i]\n",
    "            res= res+1\n",
    "    return res\n",
    "     \n",
    "# Returns number of bins required using first fit\n",
    "# decreasing offline algorithm\n",
    "def firstFitDec(weight, n, c):\n",
    " \n",
    "    # First sort all weights in decreasing order\n",
    "#     weight.sort(reverse = True)\n",
    " \n",
    "    # Now call first fit for sorted items\n",
    "    return firstFit(weight, n, c)\n",
    " \n",
    "\n",
    "# Driver program\n",
    "\n",
    "to_plot = []\n",
    "c = 100\n",
    "binVal1 = firstFitDec(arrT1, len(arrT1), c)\n",
    "binVal2 = firstFitDec(arrT2, len(arrT2), c)\n",
    "binVal3 = firstFitDec(arrT3, len(arrT3), c)\n",
    "binVal4 = firstFitDec(arrT4, len(arrT4), c)\n",
    "binVal5 = firstFitDec(arrT5, len(arrT5), c)\n",
    "print(\"Number of bins required for Tier 1 : \",binVal1)\n",
    "print(\"Number of bins required for Tier 2 : \",binVal2)\n",
    "print(\"Number of bins required for Tier 3 : \",binVal3)\n",
    "print(\"Number of bins required for Tier 4 : \",binVal4)\n",
    "print(\"Number of bins required for Tier 5 : \",binVal5)\n",
    "to_plot.append(binVal1)\n",
    "to_plot.append(binVal2)\n",
    "to_plot.append(binVal3)\n",
    "to_plot.append(binVal4)\n",
    "to_plot.append(binVal5)\n",
    "print(to_plot)\n",
    "\n",
    "\n",
    "\n",
    "\n",
    "# This code is contributed by shinjanpatra\n",
    "\n",
    "\n"
   ]
  },
  {
   "cell_type": "code",
   "execution_count": 86,
   "id": "80d26585",
   "metadata": {},
   "outputs": [
    {
     "data": {
      "image/png": "[encoded data removed]",
      "text/plain": [
       "<Figure size 640x480 with 1 Axes>"
      ]
     },
     "metadata": {},
     "output_type": "display_data"
    }
   ],
   "source": [
    "fig = plt.figure()\n",
    "\n",
    "ax = fig.add_axes([0,0,1,1])\n",
    "langs = ['Tier 1', 'Tier 2', 'Tier 3', 'Tier 4', 'Tier 5']\n",
    "\n",
    "ax.bar(langs,to_plot)\n",
    "plt.show()"
   ]
  },
  {
   "cell_type": "code",
   "execution_count": null,
   "id": "acf7e2eb",
   "metadata": {},
   "outputs": [],
   "source": []
  },
  {
   "cell_type": "code",
   "execution_count": null,
   "id": "efd86b3e",
   "metadata": {},
   "outputs": [],
   "source": []
  },
  {
   "cell_type": "code",
   "execution_count": null,
   "id": "6add7a70",
   "metadata": {},
   "outputs": [],
   "source": []
  }
 ],
 "metadata": {
  "kernelspec": {
   "display_name": "Python 3 (ipykernel)",
   "language": "python",
   "name": "python3"
  },
  "language_info": {
   "codemirror_mode": {
    "name": "ipython",
    "version": 3
   },
   "file_extension": ".py",
   "mimetype": "text/x-python",
   "name": "python",
   "nbconvert_exporter": "python",
   "pygments_lexer": "ipython3",
   "version": "3.9.13"
  }
 },
 "nbformat": 4,
 "nbformat_minor": 5
}
